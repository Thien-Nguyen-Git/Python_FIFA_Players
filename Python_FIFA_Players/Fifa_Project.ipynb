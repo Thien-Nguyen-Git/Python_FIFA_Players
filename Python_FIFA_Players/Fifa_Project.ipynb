{
 "cells": [
  {
   "cell_type": "code",
   "execution_count": 1,
   "id": "90d392ce-bf4a-4d7a-bd67-1f3b92a75b22",
   "metadata": {},
   "outputs": [],
   "source": [
    "import pandas as pd\n",
    "import pandasql as ps\n",
    "import numpy as np\n",
    "import matplotlib.pyplot as plt\n",
    "\n",
    "#%matplotlib inline"
   ]
  },
  {
   "cell_type": "code",
   "execution_count": 2,
   "id": "6e80bc3f-0807-4e6f-8857-de67607e7b55",
   "metadata": {},
   "outputs": [],
   "source": [
    "#pip install -U pandasql"
   ]
  },
  {
   "cell_type": "code",
   "execution_count": 3,
   "id": "fae8a4a2-e460-4f9a-8972-66919be109cb",
   "metadata": {},
   "outputs": [],
   "source": [
    "data = pd.read_csv(r'C:\\Users\\smith\\Downloads\\players_20.csv')\n",
    "#print (df)"
   ]
  },
  {
   "cell_type": "code",
   "execution_count": 4,
   "id": "f90474cc-30e6-4857-8a8b-06a18c4a4590",
   "metadata": {},
   "outputs": [],
   "source": [
    "df = pd.DataFrame(data)\n",
    "#print(df)"
   ]
  },
  {
   "cell_type": "code",
   "execution_count": 5,
   "id": "f488fb2e-272b-44cf-b327-b76fabb2f303",
   "metadata": {},
   "outputs": [],
   "source": [
    "output = ps.sqldf(\"select * from df\")\n",
    "#print(output)"
   ]
  },
  {
   "cell_type": "code",
   "execution_count": 6,
   "id": "276fdfce-70bc-41a7-91ae-2a167bb1fba0",
   "metadata": {},
   "outputs": [
    {
     "name": "stdout",
     "output_type": "stream",
     "text": [
      "   sofifa_id                                         player_url  \\\n",
      "0     158023  https://sofifa.com/player/158023/lionel-messi/...   \n",
      "1      20801  https://sofifa.com/player/20801/c-ronaldo-dos-...   \n",
      "2     190871  https://sofifa.com/player/190871/neymar-da-sil...   \n",
      "3     200389  https://sofifa.com/player/200389/jan-oblak/20/...   \n",
      "4     183277  https://sofifa.com/player/183277/eden-hazard/2...   \n",
      "\n",
      "          short_name                            long_name  age        dob  \\\n",
      "0           L. Messi       Lionel Andrés Messi Cuccittini   32  6/24/1987   \n",
      "1  Cristiano Ronaldo  Cristiano Ronaldo dos Santos Aveiro   34   2/5/1985   \n",
      "2          Neymar Jr        Neymar da Silva Santos Junior   27   2/5/1992   \n",
      "3           J. Oblak                            Jan Oblak   26   1/7/1993   \n",
      "4          E. Hazard                          Eden Hazard   28   1/7/1991   \n",
      "\n",
      "   height_cm  weight_kg nationality                 club  ...   lwb   ldm  \\\n",
      "0        170         72   Argentina         FC Barcelona  ...  68+2  66+2   \n",
      "1        187         83    Portugal             Juventus  ...  65+3  61+3   \n",
      "2        175         68      Brazil  Paris Saint-Germain  ...  66+3  61+3   \n",
      "3        188         87    Slovenia      Atlético Madrid  ...  None  None   \n",
      "4        175         74     Belgium          Real Madrid  ...  66+3  63+3   \n",
      "\n",
      "    cdm   rdm   rwb    lb   lcb    cb   rcb    rb  \n",
      "0  66+2  66+2  68+2  63+2  52+2  52+2  52+2  63+2  \n",
      "1  61+3  61+3  65+3  61+3  53+3  53+3  53+3  61+3  \n",
      "2  61+3  61+3  66+3  61+3  46+3  46+3  46+3  61+3  \n",
      "3  None  None  None  None  None  None  None  None  \n",
      "4  63+3  63+3  66+3  61+3  49+3  49+3  49+3  61+3  \n",
      "\n",
      "[5 rows x 104 columns]\n"
     ]
    }
   ],
   "source": [
    "#1. Load the csv file and show top 5 records from it. \n",
    "output = ps.sqldf(\"select * from df limit 5;\")\n",
    "print(output)"
   ]
  },
  {
   "cell_type": "code",
   "execution_count": 7,
   "id": "cc143174-3822-4a4e-8133-ade4b9a8502f",
   "metadata": {},
   "outputs": [
    {
     "name": "stdout",
     "output_type": "stream",
     "text": [
      "['sofifa_id', 'player_url', 'short_name', 'long_name', 'age', 'dob', 'height_cm', 'weight_kg', 'nationality', 'club', 'overall', 'potential', 'value_eur', 'wage_eur', 'player_positions', 'preferred_foot', 'international_reputation', 'weak_foot', 'skill_moves', 'work_rate', 'body_type', 'real_face', 'release_clause_eur', 'player_tags', 'team_position', 'team_jersey_number', 'loaned_from', 'joined', 'contract_valid_until', 'nation_position', 'nation_jersey_number', 'pace', 'shooting', 'passing', 'dribbling', 'defending', 'physic', 'gk_diving', 'gk_handling', 'gk_kicking', 'gk_reflexes', 'gk_speed', 'gk_positioning', 'player_traits', 'attacking_crossing', 'attacking_finishing', 'attacking_heading_accuracy', 'attacking_short_passing', 'attacking_volleys', 'skill_dribbling', 'skill_curve', 'skill_fk_accuracy', 'skill_long_passing', 'skill_ball_control', 'movement_acceleration', 'movement_sprint_speed', 'movement_agility', 'movement_reactions', 'movement_balance', 'power_shot_power', 'power_jumping', 'power_stamina', 'power_strength', 'power_long_shots', 'mentality_aggression', 'mentality_interceptions', 'mentality_positioning', 'mentality_vision', 'mentality_penalties', 'mentality_composure', 'defending_marking', 'defending_standing_tackle', 'defending_sliding_tackle', 'goalkeeping_diving', 'goalkeeping_handling', 'goalkeeping_kicking', 'goalkeeping_positioning', 'goalkeeping_reflexes', 'ls', 'st', 'rs', 'lw', 'lf', 'cf', 'rf', 'rw', 'lam', 'cam', 'ram', 'lm', 'lcm', 'cm', 'rcm', 'rm', 'lwb', 'ldm', 'cdm', 'rdm', 'rwb', 'lb', 'lcb', 'cb', 'rcb', 'rb']\n"
     ]
    }
   ],
   "source": [
    "#2. How you would be able to see each column's name. \n",
    "print(df.columns.tolist())"
   ]
  },
  {
   "cell_type": "code",
   "execution_count": 8,
   "id": "34ec15e3-eb23-47e9-992b-2384ee24391e",
   "metadata": {},
   "outputs": [
    {
     "name": "stdout",
     "output_type": "stream",
     "text": [
      "Rows  Cols\n",
      "18278 104\n"
     ]
    }
   ],
   "source": [
    "#3. Need to show number of rows and columns of this dataset. \n",
    "output1 = len(df.axes[1])\n",
    "output2 = len(df.axes[0])\n",
    "print(\"Rows  Cols\")\n",
    "print(output2 ,output1)\n"
   ]
  },
  {
   "cell_type": "code",
   "execution_count": 9,
   "id": "ddc3585f-2795-455b-af16-45bde485fe06",
   "metadata": {},
   "outputs": [
    {
     "name": "stdout",
     "output_type": "stream",
     "text": [
      "               Country  Num of Players\n",
      "0          Afghanistan               2\n",
      "1              Albania              43\n",
      "2              Algeria              50\n",
      "3               Angola              16\n",
      "4    Antigua & Barbuda               7\n",
      "..                 ...             ...\n",
      "157          Venezuela              66\n",
      "158            Vietnam               1\n",
      "159              Wales             117\n",
      "160             Zambia              10\n",
      "161           Zimbabwe              12\n",
      "\n",
      "[162 rows x 2 columns]\n"
     ]
    }
   ],
   "source": [
    "#4. Show number of players and their countries. \n",
    "output = ps.sqldf(\"\"\"select\n",
    "                    nationality as 'Country',\n",
    "                    count(*) as 'Num of Players'\n",
    "                from\n",
    "                    df\n",
    "                group by\n",
    "                    nationality;\"\"\")\n",
    "print(output)"
   ]
  },
  {
   "cell_type": "code",
   "execution_count": 10,
   "id": "a255e5db-3fbc-46f4-93e2-455c3fef9103",
   "metadata": {},
   "outputs": [
    {
     "name": "stdout",
     "output_type": "stream",
     "text": [
      "      Country  Num of Players  Avg Potential\n",
      "0  Mozambique               4      73.250000\n",
      "1        Chad               1      73.000000\n",
      "2     Bahrain               1      72.000000\n",
      "3     Uruguay             164      71.646341\n",
      "4     Algeria              50      71.380000\n",
      "5      Brazil             824      71.161408\n",
      "6      Israel              16      71.125000\n",
      "7       Libya               4      71.000000\n",
      "8     Eritrea               1      71.000000\n",
      "9       Gabon              16      70.687500\n"
     ]
    }
   ],
   "source": [
    "#5. If you find many records in point 4 then show only top 10 countries and their number of players. \n",
    "output = ps.sqldf(\"\"\"select\n",
    "                        nationality Country,\n",
    "                        count(*) as 'Num of Players',\n",
    "                        AVG(overall)  as 'Avg Potential'\n",
    "                    from\n",
    "                        df\n",
    "                    group by\n",
    "                        nationality\n",
    "                    order by \n",
    "                        AVG(overall) desc\n",
    "                    limit \n",
    "                        10;\"\"\")\n",
    "print(output)"
   ]
  },
  {
   "cell_type": "code",
   "execution_count": 11,
   "id": "fb6051ed-7dc3-4a78-8f44-af299bd88c9e",
   "metadata": {},
   "outputs": [
    {
     "data": {
      "image/png": "[encoded data removed]",
      "text/plain": [
       "<Figure size 432x288 with 1 Axes>"
      ]
     },
     "metadata": {
      "needs_background": "light"
     },
     "output_type": "display_data"
    }
   ],
   "source": [
    "#6. Now you have to create a bar plot of top 5 countries and their number of players, try to fill green color in bars. \n",
    "X = output.iloc[:,0]\n",
    "\n",
    "Y = output.iloc[:,1]\n",
    "            \n",
    "plt.bar(X, Y, color='g')\n",
    "plt.title(\"Top Players & Wages\")\n",
    "plt.xlabel(\"Players\")\n",
    "plt.ylabel(\"Wages\")\n",
    "\n",
    "plt.show()"
   ]
  },
  {
   "cell_type": "code",
   "execution_count": 12,
   "id": "965c09ad-186b-4e81-9ccb-2c780e101553",
   "metadata": {},
   "outputs": [
    {
     "name": "stdout",
     "output_type": "stream",
     "text": [
      "          short_name  wage_eur\n",
      "0           L. Messi    565000\n",
      "1  Cristiano Ronaldo    405000\n",
      "2          Neymar Jr    290000\n",
      "3           J. Oblak    125000\n",
      "4          E. Hazard    470000\n"
     ]
    }
   ],
   "source": [
    "#7. Show top 5 players short name and wages. \n",
    "output = ps.sqldf(\"\"\"select\n",
    "                        short_name,\n",
    "                        wage_eur\n",
    "                    from \n",
    "                        df\n",
    "                    order by\n",
    "                        overall desc\n",
    "                    limit \n",
    "                        5;\n",
    "                    \"\"\")\n",
    "print(output)"
   ]
  },
  {
   "cell_type": "code",
   "execution_count": 13,
   "id": "ca4bc73e-ce36-4d55-92a3-e0e928128ecd",
   "metadata": {},
   "outputs": [
    {
     "name": "stdout",
     "output_type": "stream",
     "text": [
      "          short_name  wage_eur\n",
      "0           L. Messi    565000\n",
      "1          E. Hazard    470000\n",
      "2  Cristiano Ronaldo    405000\n",
      "3       K. De Bruyne    370000\n",
      "4       A. Griezmann    370000\n"
     ]
    }
   ],
   "source": [
    "#8. Show top 5 players short name and wages that are getting highest salaries. \n",
    "output = ps.sqldf(\"\"\"select\n",
    "                        short_name,\n",
    "                        wage_eur\n",
    "                    from \n",
    "                        df\n",
    "                    order by\n",
    "                        wage_eur desc\n",
    "                    limit \n",
    "                        5;\"\"\")\n",
    "print(output)"
   ]
  },
  {
   "cell_type": "code",
   "execution_count": 14,
   "id": "b542fb11-2c1f-4ed6-bd25-a29a0b744f87",
   "metadata": {},
   "outputs": [
    {
     "data": {
      "text/html": [
       "<div>\n",
       "<style scoped>\n",
       "    .dataframe tbody tr th:only-of-type {\n",
       "        vertical-align: middle;\n",
       "    }\n",
       "\n",
       "    .dataframe tbody tr th {\n",
       "        vertical-align: top;\n",
       "    }\n",
       "\n",
       "    .dataframe thead th {\n",
       "        text-align: right;\n",
       "    }\n",
       "</style>\n",
       "<table border=\"1\" class=\"dataframe\">\n",
       "  <thead>\n",
       "    <tr style=\"text-align: right;\">\n",
       "      <th></th>\n",
       "      <th>sofifa_id</th>\n",
       "      <th>player_url</th>\n",
       "      <th>short_name</th>\n",
       "      <th>long_name</th>\n",
       "      <th>age</th>\n",
       "      <th>dob</th>\n",
       "      <th>height_cm</th>\n",
       "      <th>weight_kg</th>\n",
       "      <th>nationality</th>\n",
       "      <th>club</th>\n",
       "      <th>...</th>\n",
       "      <th>lwb</th>\n",
       "      <th>ldm</th>\n",
       "      <th>cdm</th>\n",
       "      <th>rdm</th>\n",
       "      <th>rwb</th>\n",
       "      <th>lb</th>\n",
       "      <th>lcb</th>\n",
       "      <th>cb</th>\n",
       "      <th>rcb</th>\n",
       "      <th>rb</th>\n",
       "    </tr>\n",
       "  </thead>\n",
       "  <tbody>\n",
       "    <tr>\n",
       "      <th>0</th>\n",
       "      <td>158023</td>\n",
       "      <td>https://sofifa.com/player/158023/lionel-messi/...</td>\n",
       "      <td>L. Messi</td>\n",
       "      <td>Lionel Andrés Messi Cuccittini</td>\n",
       "      <td>32</td>\n",
       "      <td>6/24/1987</td>\n",
       "      <td>170</td>\n",
       "      <td>72</td>\n",
       "      <td>Argentina</td>\n",
       "      <td>FC Barcelona</td>\n",
       "      <td>...</td>\n",
       "      <td>68+2</td>\n",
       "      <td>66+2</td>\n",
       "      <td>66+2</td>\n",
       "      <td>66+2</td>\n",
       "      <td>68+2</td>\n",
       "      <td>63+2</td>\n",
       "      <td>52+2</td>\n",
       "      <td>52+2</td>\n",
       "      <td>52+2</td>\n",
       "      <td>63+2</td>\n",
       "    </tr>\n",
       "    <tr>\n",
       "      <th>4</th>\n",
       "      <td>183277</td>\n",
       "      <td>https://sofifa.com/player/183277/eden-hazard/2...</td>\n",
       "      <td>E. Hazard</td>\n",
       "      <td>Eden Hazard</td>\n",
       "      <td>28</td>\n",
       "      <td>1/7/1991</td>\n",
       "      <td>175</td>\n",
       "      <td>74</td>\n",
       "      <td>Belgium</td>\n",
       "      <td>Real Madrid</td>\n",
       "      <td>...</td>\n",
       "      <td>66+3</td>\n",
       "      <td>63+3</td>\n",
       "      <td>63+3</td>\n",
       "      <td>63+3</td>\n",
       "      <td>66+3</td>\n",
       "      <td>61+3</td>\n",
       "      <td>49+3</td>\n",
       "      <td>49+3</td>\n",
       "      <td>49+3</td>\n",
       "      <td>61+3</td>\n",
       "    </tr>\n",
       "    <tr>\n",
       "      <th>1</th>\n",
       "      <td>20801</td>\n",
       "      <td>https://sofifa.com/player/20801/c-ronaldo-dos-...</td>\n",
       "      <td>Cristiano Ronaldo</td>\n",
       "      <td>Cristiano Ronaldo dos Santos Aveiro</td>\n",
       "      <td>34</td>\n",
       "      <td>2/5/1985</td>\n",
       "      <td>187</td>\n",
       "      <td>83</td>\n",
       "      <td>Portugal</td>\n",
       "      <td>Juventus</td>\n",
       "      <td>...</td>\n",
       "      <td>65+3</td>\n",
       "      <td>61+3</td>\n",
       "      <td>61+3</td>\n",
       "      <td>61+3</td>\n",
       "      <td>65+3</td>\n",
       "      <td>61+3</td>\n",
       "      <td>53+3</td>\n",
       "      <td>53+3</td>\n",
       "      <td>53+3</td>\n",
       "      <td>61+3</td>\n",
       "    </tr>\n",
       "    <tr>\n",
       "      <th>5</th>\n",
       "      <td>192985</td>\n",
       "      <td>https://sofifa.com/player/192985/kevin-de-bruy...</td>\n",
       "      <td>K. De Bruyne</td>\n",
       "      <td>Kevin De Bruyne</td>\n",
       "      <td>28</td>\n",
       "      <td>6/28/1991</td>\n",
       "      <td>181</td>\n",
       "      <td>70</td>\n",
       "      <td>Belgium</td>\n",
       "      <td>Manchester City</td>\n",
       "      <td>...</td>\n",
       "      <td>77+3</td>\n",
       "      <td>77+3</td>\n",
       "      <td>77+3</td>\n",
       "      <td>77+3</td>\n",
       "      <td>77+3</td>\n",
       "      <td>73+3</td>\n",
       "      <td>66+3</td>\n",
       "      <td>66+3</td>\n",
       "      <td>66+3</td>\n",
       "      <td>73+3</td>\n",
       "    </tr>\n",
       "    <tr>\n",
       "      <th>22</th>\n",
       "      <td>194765</td>\n",
       "      <td>https://sofifa.com/player/194765/antoine-griez...</td>\n",
       "      <td>A. Griezmann</td>\n",
       "      <td>Antoine Griezmann</td>\n",
       "      <td>28</td>\n",
       "      <td>3/21/1991</td>\n",
       "      <td>176</td>\n",
       "      <td>73</td>\n",
       "      <td>France</td>\n",
       "      <td>FC Barcelona</td>\n",
       "      <td>...</td>\n",
       "      <td>73+3</td>\n",
       "      <td>71+3</td>\n",
       "      <td>71+3</td>\n",
       "      <td>71+3</td>\n",
       "      <td>73+3</td>\n",
       "      <td>70+3</td>\n",
       "      <td>65+3</td>\n",
       "      <td>65+3</td>\n",
       "      <td>65+3</td>\n",
       "      <td>70+3</td>\n",
       "    </tr>\n",
       "  </tbody>\n",
       "</table>\n",
       "<p>5 rows × 104 columns</p>\n",
       "</div>"
      ],
      "text/plain": [
       "    sofifa_id                                         player_url  \\\n",
       "0      158023  https://sofifa.com/player/158023/lionel-messi/...   \n",
       "4      183277  https://sofifa.com/player/183277/eden-hazard/2...   \n",
       "1       20801  https://sofifa.com/player/20801/c-ronaldo-dos-...   \n",
       "5      192985  https://sofifa.com/player/192985/kevin-de-bruy...   \n",
       "22     194765  https://sofifa.com/player/194765/antoine-griez...   \n",
       "\n",
       "           short_name                            long_name  age        dob  \\\n",
       "0            L. Messi       Lionel Andrés Messi Cuccittini   32  6/24/1987   \n",
       "4           E. Hazard                          Eden Hazard   28   1/7/1991   \n",
       "1   Cristiano Ronaldo  Cristiano Ronaldo dos Santos Aveiro   34   2/5/1985   \n",
       "5        K. De Bruyne                      Kevin De Bruyne   28  6/28/1991   \n",
       "22       A. Griezmann                    Antoine Griezmann   28  3/21/1991   \n",
       "\n",
       "    height_cm  weight_kg nationality             club  ...   lwb   ldm   cdm  \\\n",
       "0         170         72   Argentina     FC Barcelona  ...  68+2  66+2  66+2   \n",
       "4         175         74     Belgium      Real Madrid  ...  66+3  63+3  63+3   \n",
       "1         187         83    Portugal         Juventus  ...  65+3  61+3  61+3   \n",
       "5         181         70     Belgium  Manchester City  ...  77+3  77+3  77+3   \n",
       "22        176         73      France     FC Barcelona  ...  73+3  71+3  71+3   \n",
       "\n",
       "     rdm   rwb    lb   lcb    cb   rcb    rb  \n",
       "0   66+2  68+2  63+2  52+2  52+2  52+2  63+2  \n",
       "4   63+3  66+3  61+3  49+3  49+3  49+3  61+3  \n",
       "1   61+3  65+3  61+3  53+3  53+3  53+3  61+3  \n",
       "5   77+3  77+3  73+3  66+3  66+3  66+3  73+3  \n",
       "22  71+3  73+3  70+3  65+3  65+3  65+3  70+3  \n",
       "\n",
       "[5 rows x 104 columns]"
      ]
     },
     "execution_count": 14,
     "metadata": {},
     "output_type": "execute_result"
    }
   ],
   "source": [
    "top = df.nlargest(5, 'wage_eur')\n",
    "top\n"
   ]
  },
  {
   "cell_type": "code",
   "execution_count": 15,
   "id": "93352749-8ac5-4434-a746-3617d3173f82",
   "metadata": {},
   "outputs": [
    {
     "data": {
      "image/png": "[encoded data removed]",
      "text/plain": [
       "<Figure size 432x288 with 1 Axes>"
      ]
     },
     "metadata": {
      "needs_background": "light"
     },
     "output_type": "display_data"
    }
   ],
   "source": [
    "#9. Create a bar plot of point number 8. \n",
    "\n",
    "top = df.nlargest(5, 'wage_eur')\n",
    "\n",
    "X = top.iloc[:,2]\n",
    "\n",
    "Y = top.iloc[:,13]\n",
    "            \n",
    "plt.bar(X, Y, color='g')\n",
    "plt.title(\"Top Players & Wages\")\n",
    "plt.xlabel(\"Players\")\n",
    "plt.ylabel(\"Wages\")\n",
    "  \n",
    "# Show the plot\n",
    "plt.show()\n",
    "\n"
   ]
  },
  {
   "cell_type": "code",
   "execution_count": 16,
   "id": "adfd4beb-88ce-4369-8362-6abe6e92a792",
   "metadata": {},
   "outputs": [
    {
     "name": "stdout",
     "output_type": "stream",
     "text": [
      "   sofifa_id                                         player_url  \\\n",
      "0     192448  https://sofifa.com/player/192448/marc-andre-te...   \n",
      "1     167495  https://sofifa.com/player/167495/manuel-neuer/...   \n",
      "2     182521  https://sofifa.com/player/182521/toni-kroos/20...   \n",
      "3     188350  https://sofifa.com/player/188350/marco-reus/20...   \n",
      "4     178603  https://sofifa.com/player/178603/mats-hummels/...   \n",
      "5     222492  https://sofifa.com/player/222492/leroy-sane/20...   \n",
      "6     212622  https://sofifa.com/player/212622/joshua-kimmic...   \n",
      "7     189596  https://sofifa.com/player/189596/thomas-muller...   \n",
      "8     212190  https://sofifa.com/player/212190/niklas-sule/2...   \n",
      "9     235790  https://sofifa.com/player/235790/kai-havertz/2...   \n",
      "\n",
      "      short_name              long_name  age         dob  height_cm  \\\n",
      "0  M. ter Stegen  Marc-André ter Stegen   27   4/30/1992        187   \n",
      "1       M. Neuer           Manuel Neuer   33   3/27/1986        193   \n",
      "2       T. Kroos             Toni Kroos   29    1/4/1990        183   \n",
      "3        M. Reus             Marco Reus   30   5/31/1989        180   \n",
      "4     M. Hummels          Mats  Hummels   30  12/16/1988        191   \n",
      "5        L. Sané             Leroy Sané   23   1/11/1996        183   \n",
      "6     J. Kimmich         Joshua Kimmich   24    2/8/1995        176   \n",
      "7      T. Müller          Thomas Müller   29   9/13/1989        186   \n",
      "8        N. Süle            Niklas Süle   23    9/3/1995        195   \n",
      "9     K. Havertz            Kai Havertz   20   6/11/1999        188   \n",
      "\n",
      "   weight_kg nationality                 club  ...   lwb   ldm   cdm   rdm  \\\n",
      "0         85     Germany         FC Barcelona  ...  None  None  None  None   \n",
      "1         92     Germany    FC Bayern München  ...  None  None  None  None   \n",
      "2         76     Germany          Real Madrid  ...  75+3  79+3  79+3  79+3   \n",
      "3         71     Germany    Borussia Dortmund  ...  69+3  65+3  65+3  65+3   \n",
      "4         94     Germany    Borussia Dortmund  ...  77+3  83+3  83+3  83+3   \n",
      "5         75     Germany      Manchester City  ...  65+2  59+2  59+2  59+2   \n",
      "6         73     Germany    FC Bayern München  ...  83+3  82+3  82+3  82+3   \n",
      "7         75     Germany    FC Bayern München  ...  69+3  68+3  68+3  68+3   \n",
      "8         97     Germany    FC Bayern München  ...  71+2  77+2  77+2  77+2   \n",
      "9         83     Germany  Bayer 04 Leverkusen  ...  65+2  63+2  63+2  63+2   \n",
      "\n",
      "    rwb    lb   lcb    cb   rcb    rb  \n",
      "0  None  None  None  None  None  None  \n",
      "1  None  None  None  None  None  None  \n",
      "2  75+3  72+3  69+3  69+3  69+3  72+3  \n",
      "3  69+3  64+3  55+3  55+3  55+3  64+3  \n",
      "4  77+3  78+3  84+3  84+3  84+3  78+3  \n",
      "5  65+2  61+2  52+2  52+2  52+2  61+2  \n",
      "6  83+3  81+3  78+3  78+3  78+3  81+3  \n",
      "7  69+3  67+3  62+3  62+3  62+3  67+3  \n",
      "8  71+2  75+2  83+2  83+2  83+2  75+2  \n",
      "9  65+2  62+2  54+2  54+2  54+2  62+2  \n",
      "\n",
      "[10 rows x 104 columns]\n"
     ]
    }
   ],
   "source": [
    "#10.Show top 10 records of Germany. \n",
    "output = ps.sqldf(\"\"\"select \n",
    "                        * \n",
    "                    from \n",
    "                        df \n",
    "                    where \n",
    "                        nationality = 'Germany'\n",
    "                    order by\n",
    "                        overall desc\n",
    "                    limit \n",
    "                        10;\"\"\")\n",
    "print(output)"
   ]
  },
  {
   "cell_type": "code",
   "execution_count": 17,
   "id": "fa6e187e-b627-4b43-b69e-a0ab008c78c6",
   "metadata": {},
   "outputs": [
    {
     "name": "stdout",
     "output_type": "stream",
     "text": [
      "      short_name  height_cm  weight_kg  wage_eur\n",
      "0  K. Holzweiler        164         60      1000\n",
      "1      P. Finger        166         61      2000\n",
      "2       S. Özcan        166         65      1000\n",
      "3      J. Gesien        167         58      1000\n",
      "4     S. Bigalke        167         60      4000\n"
     ]
    }
   ],
   "source": [
    "#11.Now show top 5 records of Germany players who have maximum height, weight and wages. \n",
    "output = ps.sqldf(\"\"\"select\n",
    "                        short_name,\n",
    "                        height_cm,\n",
    "                        weight_kg,\n",
    "                        wage_eur\n",
    "                    from\n",
    "                        df\n",
    "                    where \n",
    "                        nationality = 'Germany'\n",
    "                    order by\n",
    "                       height_cm, weight_kg, wage_eur desc\n",
    "                    limit \n",
    "                        5;\"\"\")\n",
    "print(output)"
   ]
  },
  {
   "cell_type": "code",
   "execution_count": 18,
   "id": "96b4329c-5150-4403-9a6e-5cacf4519353",
   "metadata": {},
   "outputs": [
    {
     "name": "stdout",
     "output_type": "stream",
     "text": [
      "      short_name  wage_eur\n",
      "0  M. ter Stegen    250000\n",
      "1       M. Neuer    155000\n",
      "2       T. Kroos    330000\n",
      "3        M. Reus    170000\n",
      "4     M. Hummels    130000\n"
     ]
    }
   ],
   "source": [
    "#12.Show short name and wages of top 5 Germany players. \n",
    "output = ps.sqldf(\"\"\"select\n",
    "                        short_name,\n",
    "                        wage_eur\n",
    "                    from\n",
    "                        df\n",
    "                    where \n",
    "                        nationality = 'Germany'\n",
    "                    order by\n",
    "                       overall desc\n",
    "                    limit \n",
    "                        5;\"\"\")\n",
    "print(output)"
   ]
  },
  {
   "cell_type": "code",
   "execution_count": 19,
   "id": "1cca3317-75f4-4330-befd-00aed0d98288",
   "metadata": {},
   "outputs": [
    {
     "name": "stdout",
     "output_type": "stream",
     "text": [
      "   short_name  shooting\n",
      "0     M. Reus      88.0\n",
      "1  K. Volland      84.0\n",
      "2   T. Müller      83.0\n",
      "3    M. Kruse      83.0\n",
      "4   S. Gnabry      82.0\n"
     ]
    }
   ],
   "source": [
    "#13.Show top 5 players who have great shooting skills among all with short name. \n",
    "output = ps.sqldf(\"\"\"select\n",
    "                        short_name,\n",
    "                        shooting\n",
    "                    from\n",
    "                        df\n",
    "                    where \n",
    "                        nationality = 'Germany'\n",
    "                    order by\n",
    "                       shooting desc\n",
    "                    limit \n",
    "                        5;\"\"\")\n",
    "print(output)"
   ]
  },
  {
   "cell_type": "code",
   "execution_count": 20,
   "id": "2ad235f7-7e7e-4c64-ab4f-8b96f1d1c7f7",
   "metadata": {},
   "outputs": [
    {
     "name": "stdout",
     "output_type": "stream",
     "text": [
      "           Name  Defending      Country               Club\n",
      "0   V. van Dijk       90.0  Netherlands          Liverpool\n",
      "1  G. Chiellini       90.0        Italy           Juventus\n",
      "2  K. Koulibaly       89.0      Senegal             Napoli\n",
      "3      D. Godín       89.0      Uruguay              Inter\n",
      "4    M. Hummels       89.0      Germany  Borussia Dortmund\n"
     ]
    }
   ],
   "source": [
    "#14.Show top 5 players records (short name, defending, nationality, and club) that have awesome defending skills. \n",
    "output = ps.sqldf(\"\"\"select\n",
    "                        short_name as 'Name',\n",
    "                        defending as 'Defending',\n",
    "                        nationality as 'Country',\n",
    "                        club as 'Club'\n",
    "                    from\n",
    "                        df\n",
    "                    order by\n",
    "                       defending desc\n",
    "                    limit \n",
    "                        5;\"\"\")\n",
    "print(output)"
   ]
  },
  {
   "cell_type": "code",
   "execution_count": 21,
   "id": "c3038ddb-2fc7-4901-816f-f5e90a6d9851",
   "metadata": {},
   "outputs": [
    {
     "name": "stdout",
     "output_type": "stream",
     "text": [
      "           Name  Overall    Wage\n",
      "0     E. Hazard       91  470000\n",
      "1     L. Modrić       90  340000\n",
      "2      T. Kroos       88  330000\n",
      "3  Sergio Ramos       89  300000\n",
      "4    K. Benzema       87  285000\n"
     ]
    }
   ],
   "source": [
    "#15.Show wages records of top 5 players of 'Real Madrid' team. \n",
    "output = ps.sqldf(\"\"\"select \n",
    "                        short_name as 'Name',\n",
    "                        overall as 'Overall',\n",
    "                        wage_eur as 'Wage'\n",
    "                    from\n",
    "                        df\n",
    "                    where\n",
    "                        club = 'Real Madrid'\n",
    "                    order by\n",
    "                        wage desc\n",
    "                    limit\n",
    "                        5;\"\"\")\n",
    "print(output)"
   ]
  },
  {
   "cell_type": "code",
   "execution_count": 22,
   "id": "50cc6589-9c06-48a7-b636-3f5eebb80f1b",
   "metadata": {},
   "outputs": [
    {
     "name": "stdout",
     "output_type": "stream",
     "text": [
      "           Name  Shooting\n",
      "0       G. Bale      87.0\n",
      "1  J. Rodríguez      86.0\n",
      "2     E. Hazard      83.0\n",
      "3    K. Benzema      82.0\n",
      "4      L. Jović      82.0\n"
     ]
    }
   ],
   "source": [
    "#16.Show shooting records of top 5 players of 'Real Madrid' team. \n",
    "output = ps.sqldf(\"\"\"select \n",
    "                        short_name as 'Name',\n",
    "                        shooting as 'Shooting'\n",
    "                    from\n",
    "                        df\n",
    "                    where\n",
    "                        club = 'Real Madrid'\n",
    "                    order by\n",
    "                        shooting desc\n",
    "                    limit\n",
    "                        5;\"\"\")\n",
    "print(output)"
   ]
  },
  {
   "cell_type": "code",
   "execution_count": 23,
   "id": "2cb28a73-418c-4cd5-8da6-9871b05d656a",
   "metadata": {},
   "outputs": [
    {
     "name": "stdout",
     "output_type": "stream",
     "text": [
      "              Name  Defending\n",
      "0     Sergio Ramos       87.0\n",
      "1         Casemiro       85.0\n",
      "2        R. Varane       85.0\n",
      "3         Carvajal       82.0\n",
      "4  Nacho Fernández       81.0\n"
     ]
    }
   ],
   "source": [
    "#17.Show defending records of top 5 players of 'Real Madrid' team. \n",
    "output = ps.sqldf(\"\"\"select \n",
    "                        short_name as 'Name',\n",
    "                        defending as 'Defending'\n",
    "                    from\n",
    "                        df\n",
    "                    where\n",
    "                        club = 'Real Madrid'\n",
    "                    order by\n",
    "                        defending desc\n",
    "                    limit\n",
    "                        5;\"\"\")\n",
    "print(output)"
   ]
  },
  {
   "cell_type": "code",
   "execution_count": 24,
   "id": "26cd856e-3ec1-4c30-91b7-e2c9f04ec8b2",
   "metadata": {},
   "outputs": [
    {
     "name": "stdout",
     "output_type": "stream",
     "text": [
      "           Name  Country\n",
      "0     E. Hazard  Belgium\n",
      "1     L. Modrić  Croatia\n",
      "2  Sergio Ramos    Spain\n",
      "3   T. Courtois  Belgium\n",
      "4      T. Kroos  Germany\n"
     ]
    }
   ],
   "source": [
    "#18.Show nationality records of top 5 players of 'Real Madrid' team. \n",
    "output = ps.sqldf(\"\"\"select \n",
    "                        short_name as 'Name',\n",
    "                        nationality as 'Country'\n",
    "                    from\n",
    "                        df\n",
    "                    where\n",
    "                        club = 'Real Madrid'\n",
    "                    order by\n",
    "                        overall desc\n",
    "                    limit\n",
    "                        5;\"\"\")\n",
    "print(output)"
   ]
  }
 ],
 "metadata": {
  "kernelspec": {
   "display_name": "Python 3",
   "language": "python",
   "name": "python3"
  },
  "language_info": {
   "codemirror_mode": {
    "name": "ipython",
    "version": 3
   },
   "file_extension": ".py",
   "mimetype": "text/x-python",
   "name": "python",
   "nbconvert_exporter": "python",
   "pygments_lexer": "ipython3",
   "version": "3.8.8"
  }
 },
 "nbformat": 4,
 "nbformat_minor": 5
}
